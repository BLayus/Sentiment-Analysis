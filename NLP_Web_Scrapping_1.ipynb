{
  "nbformat": 4,
  "nbformat_minor": 0,
  "metadata": {
    "colab": {
      "provenance": []
    },
    "kernelspec": {
      "name": "python3",
      "display_name": "Python 3"
    },
    "language_info": {
      "name": "python"
    }
  },
  "cells": [
    {
      "cell_type": "code",
      "execution_count": null,
      "metadata": {
        "id": "_Ntk8lf1121N"
      },
      "outputs": [],
      "source": [
        "# Acessar o site globo.com, salvar as manchetes em um dataframe, classificar os dados e criar novas colunas com os dados normalizados,\n",
        "# Tokens e entidades"
      ]
    },
    {
      "cell_type": "code",
      "source": [
        "# Utilizando bibliotecas NLTK e SPACY"
      ],
      "metadata": {
        "id": "NNMTwOBi80H0"
      },
      "execution_count": null,
      "outputs": []
    },
    {
      "cell_type": "code",
      "source": [
        "import requests\n",
        "from bs4 import BeautifulSoup"
      ],
      "metadata": {
        "id": "ckZKriH29nOj"
      },
      "execution_count": null,
      "outputs": []
    },
    {
      "cell_type": "code",
      "source": [
        "import pandas as pd\n"
      ],
      "metadata": {
        "id": "JMOBkd2KhfvG"
      },
      "execution_count": null,
      "outputs": []
    },
    {
      "cell_type": "code",
      "source": [
        "url = 'https://www.globo.com/'"
      ],
      "metadata": {
        "id": "UF1JiVyG92TX"
      },
      "execution_count": null,
      "outputs": []
    },
    {
      "cell_type": "code",
      "source": [
        "response = requests.get(url).content\n",
        "soup = BeautifulSoup(response, 'html.parser')\n",
        "result = soup.find_all('h3', class_='post__title')"
      ],
      "metadata": {
        "id": "UF5-hzwp-BJf"
      },
      "execution_count": null,
      "outputs": []
    },
    {
      "cell_type": "code",
      "source": [
        "all_titles = []\n",
        "for title in result:\n",
        "  all_titles.append(title.text)"
      ],
      "metadata": {
        "id": "XrnhStjL-4uQ"
      },
      "execution_count": null,
      "outputs": []
    },
    {
      "cell_type": "code",
      "source": [
        "all_titles"
      ],
      "metadata": {
        "colab": {
          "base_uri": "https://localhost:8080/"
        },
        "id": "wcnuTkEu_wBz",
        "outputId": "19bc431e-d45d-4a99-e5ae-31c1a5bdd841"
      },
      "execution_count": null,
      "outputs": [
        {
          "output_type": "execute_result",
          "data": {
            "text/plain": [
              "['Número diário de mortes por Covid é o maior em quase 9 meses no mundo',\n",
              " 'Casos começam a perder força em 5 estados, mas país segue em alta',\n",
              " 'Com a liberação dos autotestes de Covid, fabricantes aceleram produção ',\n",
              " 'Alunos da rede estadual de São Paulo voltam hoje às aulas presenciais ',\n",
              " 'Torcida prepara festa no embarque do Palmeiras para o Mundial; SIGA',\n",
              " 'Com atuação de gala, Seleção bate recorde de invencibilidade',\n",
              " 'À espera de Ney, Tite tem opções',\n",
              " 'Lista de indicados ao Laureus tem Italo Ferreira, Tom Brady e Lewandowski',\n",
              " \"Eliminado com 48,45% dos votos, Rodrigo avalia sua estratégia: 'Intuição'\",\n",
              " 'Brother se desculpa com Anitta',\n",
              " 'Como a saída repercutiu na casa',\n",
              " 'Rodrigo se surpreende com ex e a elogia; vídeo',\n",
              " 'Trio celebra com topless',\n",
              " 'Nat teve 26,1%, e Jessi, 25,4% ',\n",
              " ' Moïse agonizou por 10 minutos após agressões, diz perito ',\n",
              " \" Funcionário não chamou PM 'por estar sem celular' \",\n",
              " 'Rodízio em SP é suspenso após obra do Metrô desabar ',\n",
              " 'Veja como o trânsito poderá ficar na marginal',\n",
              " 'Corpos de gêmeos são achados, e total de mortos vai a 27',\n",
              " 'Chuva perde força em São Paulo e no Rio de Janeiro',\n",
              " 'Congresso retorna em meio a polêmica de combustíveis',\n",
              " 'Taxa básica de juros deve voltar a dois dígitos',\n",
              " \"Paulo Guedes 'cobra' Moro por ter impulsionado Lula\",\n",
              " 'Entenda o movimento do agro na cena eleitoral',\n",
              " 'Veja top 100 dos maiores e menores salários no país ',\n",
              " 'PODCAST: as notícias do dia no Resumão do g1',\n",
              " \"Brothers do VIP avaliam saída de Rodrigo: 'Ele se perdeu' \",\n",
              " \"Recado em libras que 'acalmou' Jessi emociona a web\",\n",
              " 'Maria e Eliezer deitam juntos e se beijam; veja vídeo',\n",
              " 'Como será o futuro da música dentro do metaverso',\n",
              " 'O que esperar de UFL? Tudo sobre o novo rival de FIFA e eFootball',\n",
              " 'NFT de Haaland é vendido por R$ 3,6 milhões e supera o de CR7',\n",
              " 'BlackBerry sai de vez dos celulares após negócio de R$ 3,17 bilhões',\n",
              " 'Mãe alerta sobre visitas na pandemia após bebê de 1 mês testar positivo para Covid',\n",
              " \"Qualquer um pode fazer? 'Bem Estar' tira dúvidas sobre o autoteste para Covid\",\n",
              " \"Infectlogista alerta: mesmo com vacinas, 'velho normal' ainda está longe de voltar\",\n",
              " \"Confira a evolução da decoração das salas do 'BBB' desde a primeira edição\",\n",
              " 'Quarto de hóspedes: veja dicas de quem entende para receber bem as visitas',\n",
              " 'Lar de 120 m² tem marcenaria inteligente e toques em tons de azul',\n",
              " 'Tonico Rocha é encontrado por pescadores após ser baleado',\n",
              " 'Paula passará mal após receber pedido de Flávia',\n",
              " 'Alanis Guillen e Jesuíta Barbosa serão o casal Juma e Jove ',\n",
              " 'Figurino é inspirado em Grace Kelly, Chanel, Elizabeth II e Johnny Depp',\n",
              " 'Click BBB: Jessilane ensina LIBRAS aos brothers e sisters fazem topless; só para assinates',\n",
              " 'Dani Calabresa diverte ao apresentar mais um C.A.T BBB; veja como foi',\n",
              " 'Não perca nada do BBB22! Assine no Globoplay e veja 24 horas por dia',\n",
              " 'Vídeo mostra congolês sendo espancado até a morte em quiosque no Rio',\n",
              " 'Cratera cresce na Marginal Tietê e já ocupa três faixas da pista local',\n",
              " 'Três homens são presos pela morte do congolês Moïse no Rio de Janeiro',\n",
              " \"Ninguém queria tirar a vida dele', diz agressor do congolês Moïse em vídeo\",\n",
              " \"'Musa das Estradas' mostra rosto pela primeira vez após acidente em MT\",\n",
              " 'Seleção brasileira faz grande jogo e passa fácil pelo Paraguai em noite de golaços',\n",
              " 'Palmeiras vence o Água Santa em casa e viaja para o Mundial da Fifa embalado',\n",
              " 'Com ataque inspirado, Uruguai goleia Venezuela e entra no G-4 das eliminatórias',\n",
              " 'Ronaldo lança desafio para a torcida do Cruzeiro: igualar número de sócios do Galo',\n",
              " 'Dupla do Palmeiras não viaja com o elenco ao Mundial, mas pode ir depois',\n",
              " \"Mãe presta apoio a Tiago Abravanel após desabafo sobre racha na família: 'Com você até o fim' \",\n",
              " \"Pai bonitão de Maria, do 'BBB 22', é gari e massagista em sauna gay do Rio de Janeiro\",\n",
              " 'Emanuelle Araújo se casa com Fernando Diniz em cerimônia íntima na Bahia; vídeo',\n",
              " \"Ludmilla realiza sonho e se muda no Rio de Janeiro: 'A mãe está de mansão nova'\",\n",
              " \"Após desabafo, Tiago Abravanel recebe torpedo de Rodrigo no BBB 22: 'Obrigado'\"]"
            ]
          },
          "metadata": {},
          "execution_count": 8
        }
      ]
    },
    {
      "cell_type": "code",
      "source": [
        "noticia_exemplo = 'O que esperar de UFL? Tudo sobre o novo rival de FIFA e eFootball'"
      ],
      "metadata": {
        "id": "2Mnhz47Z_x2G"
      },
      "execution_count": null,
      "outputs": []
    },
    {
      "cell_type": "code",
      "source": [
        "import re\n",
        "from unicodedata import normalize"
      ],
      "metadata": {
        "id": "JiPRl-sQAmtH"
      },
      "execution_count": null,
      "outputs": []
    },
    {
      "cell_type": "code",
      "source": [
        "re.sub(r'[-,.;?!\"()]', '', noticia_exemplo)"
      ],
      "metadata": {
        "colab": {
          "base_uri": "https://localhost:8080/",
          "height": 36
        },
        "id": "4wmtsDEQAvMl",
        "outputId": "a633527a-bee8-4474-bc12-b6d6502cd123"
      },
      "execution_count": null,
      "outputs": [
        {
          "output_type": "execute_result",
          "data": {
            "application/vnd.google.colaboratory.intrinsic+json": {
              "type": "string"
            },
            "text/plain": [
              "'O que esperar de UFL Tudo sobre o novo rival de FIFA e eFootball'"
            ]
          },
          "metadata": {},
          "execution_count": 11
        }
      ]
    },
    {
      "cell_type": "code",
      "source": [
        "def remove_pontuacao(texto):\n",
        "  return re.sub(r'[-.;:?!\"())\\']', '', texto)"
      ],
      "metadata": {
        "id": "XiTC4_GOB-GB"
      },
      "execution_count": null,
      "outputs": []
    },
    {
      "cell_type": "code",
      "source": [
        "# função para retirar pontuação e acentos do texto\n",
        "def normalizaTexto(texto):\n",
        "  output = re.sub(r'[-.;:?!\"())\\']', '', texto)\n",
        "  output = normalize('NFKD', output).encode('ASCII', 'ignore').decode('ASCII')\n",
        "  return output.lower()"
      ],
      "metadata": {
        "id": "wFdMgWytEfd4"
      },
      "execution_count": null,
      "outputs": []
    },
    {
      "cell_type": "code",
      "source": [
        "remove_pontuacao(noticia_exemplo)"
      ],
      "metadata": {
        "colab": {
          "base_uri": "https://localhost:8080/",
          "height": 36
        },
        "id": "9q10VtsOCodh",
        "outputId": "f3a23323-34de-40e7-ff28-9963c5cc8da0"
      },
      "execution_count": null,
      "outputs": [
        {
          "output_type": "execute_result",
          "data": {
            "application/vnd.google.colaboratory.intrinsic+json": {
              "type": "string"
            },
            "text/plain": [
              "'O que esperar de UFL Tudo sobre o novo rival de FIFA e eFootball'"
            ]
          },
          "metadata": {},
          "execution_count": 14
        }
      ]
    },
    {
      "cell_type": "code",
      "source": [
        "from unicodedata import normalize"
      ],
      "metadata": {
        "id": "S44YbtpXCrL2"
      },
      "execution_count": null,
      "outputs": []
    },
    {
      "cell_type": "code",
      "source": [
        "normalize('NFKD', noticia_exemplo).encode('ASCII', 'ignore').decode('ASCII')"
      ],
      "metadata": {
        "colab": {
          "base_uri": "https://localhost:8080/",
          "height": 36
        },
        "id": "0nlr0JdSDmj2",
        "outputId": "3f8bfc80-8791-4af7-9ed8-5766838f0783"
      },
      "execution_count": null,
      "outputs": [
        {
          "output_type": "execute_result",
          "data": {
            "application/vnd.google.colaboratory.intrinsic+json": {
              "type": "string"
            },
            "text/plain": [
              "'O que esperar de UFL? Tudo sobre o novo rival de FIFA e eFootball'"
            ]
          },
          "metadata": {},
          "execution_count": 16
        }
      ]
    },
    {
      "cell_type": "code",
      "source": [
        "# retorna texto após aplicação da função\n",
        "texto_normalizado = normalizaTexto(noticia_exemplo)"
      ],
      "metadata": {
        "id": "6gKZ_9d0FMJJ"
      },
      "execution_count": null,
      "outputs": []
    },
    {
      "cell_type": "code",
      "source": [
        "tokens = texto_normalizado.split()"
      ],
      "metadata": {
        "id": "hPqurhuVFQzU"
      },
      "execution_count": null,
      "outputs": []
    },
    {
      "cell_type": "code",
      "source": [
        "tokens"
      ],
      "metadata": {
        "colab": {
          "base_uri": "https://localhost:8080/"
        },
        "id": "sxNAOiWGFZNA",
        "outputId": "85307909-a49e-4b24-8c6d-df246fc330d9"
      },
      "execution_count": null,
      "outputs": [
        {
          "output_type": "execute_result",
          "data": {
            "text/plain": [
              "['o',\n",
              " 'que',\n",
              " 'esperar',\n",
              " 'de',\n",
              " 'ufl',\n",
              " 'tudo',\n",
              " 'sobre',\n",
              " 'o',\n",
              " 'novo',\n",
              " 'rival',\n",
              " 'de',\n",
              " 'fifa',\n",
              " 'e',\n",
              " 'efootball']"
            ]
          },
          "metadata": {},
          "execution_count": 19
        }
      ]
    },
    {
      "cell_type": "code",
      "source": [
        "# Usando NLTK\n",
        "\n",
        "import nltk\n",
        "nltk.download('punkt')\n",
        "from nltk.corpus import stopwords\n",
        "nltk.download('stopwords')"
      ],
      "metadata": {
        "colab": {
          "base_uri": "https://localhost:8080/"
        },
        "id": "r4Odvb54GLY_",
        "outputId": "1502e922-0c3a-4dca-b1af-a06fbe57b6c0"
      },
      "execution_count": null,
      "outputs": [
        {
          "output_type": "stream",
          "name": "stdout",
          "text": [
            "[nltk_data] Downloading package punkt to /root/nltk_data...\n",
            "[nltk_data]   Unzipping tokenizers/punkt.zip.\n",
            "[nltk_data] Downloading package stopwords to /root/nltk_data...\n",
            "[nltk_data]   Unzipping corpora/stopwords.zip.\n"
          ]
        },
        {
          "output_type": "execute_result",
          "data": {
            "text/plain": [
              "True"
            ]
          },
          "metadata": {},
          "execution_count": 20
        }
      ]
    },
    {
      "cell_type": "code",
      "source": [
        "stopwords_list = stopwords.words('portuguese')"
      ],
      "metadata": {
        "id": "ky7kkI5WHzq1"
      },
      "execution_count": null,
      "outputs": []
    },
    {
      "cell_type": "code",
      "source": [
        "stopwords_list"
      ],
      "metadata": {
        "colab": {
          "base_uri": "https://localhost:8080/"
        },
        "id": "mg6bLTNoI6Ov",
        "outputId": "e8b1fdf0-748f-4bf8-dc62-1b3eb4eb5e01"
      },
      "execution_count": null,
      "outputs": [
        {
          "output_type": "execute_result",
          "data": {
            "text/plain": [
              "['de',\n",
              " 'a',\n",
              " 'o',\n",
              " 'que',\n",
              " 'e',\n",
              " 'é',\n",
              " 'do',\n",
              " 'da',\n",
              " 'em',\n",
              " 'um',\n",
              " 'para',\n",
              " 'com',\n",
              " 'não',\n",
              " 'uma',\n",
              " 'os',\n",
              " 'no',\n",
              " 'se',\n",
              " 'na',\n",
              " 'por',\n",
              " 'mais',\n",
              " 'as',\n",
              " 'dos',\n",
              " 'como',\n",
              " 'mas',\n",
              " 'ao',\n",
              " 'ele',\n",
              " 'das',\n",
              " 'à',\n",
              " 'seu',\n",
              " 'sua',\n",
              " 'ou',\n",
              " 'quando',\n",
              " 'muito',\n",
              " 'nos',\n",
              " 'já',\n",
              " 'eu',\n",
              " 'também',\n",
              " 'só',\n",
              " 'pelo',\n",
              " 'pela',\n",
              " 'até',\n",
              " 'isso',\n",
              " 'ela',\n",
              " 'entre',\n",
              " 'depois',\n",
              " 'sem',\n",
              " 'mesmo',\n",
              " 'aos',\n",
              " 'seus',\n",
              " 'quem',\n",
              " 'nas',\n",
              " 'me',\n",
              " 'esse',\n",
              " 'eles',\n",
              " 'você',\n",
              " 'essa',\n",
              " 'num',\n",
              " 'nem',\n",
              " 'suas',\n",
              " 'meu',\n",
              " 'às',\n",
              " 'minha',\n",
              " 'numa',\n",
              " 'pelos',\n",
              " 'elas',\n",
              " 'qual',\n",
              " 'nós',\n",
              " 'lhe',\n",
              " 'deles',\n",
              " 'essas',\n",
              " 'esses',\n",
              " 'pelas',\n",
              " 'este',\n",
              " 'dele',\n",
              " 'tu',\n",
              " 'te',\n",
              " 'vocês',\n",
              " 'vos',\n",
              " 'lhes',\n",
              " 'meus',\n",
              " 'minhas',\n",
              " 'teu',\n",
              " 'tua',\n",
              " 'teus',\n",
              " 'tuas',\n",
              " 'nosso',\n",
              " 'nossa',\n",
              " 'nossos',\n",
              " 'nossas',\n",
              " 'dela',\n",
              " 'delas',\n",
              " 'esta',\n",
              " 'estes',\n",
              " 'estas',\n",
              " 'aquele',\n",
              " 'aquela',\n",
              " 'aqueles',\n",
              " 'aquelas',\n",
              " 'isto',\n",
              " 'aquilo',\n",
              " 'estou',\n",
              " 'está',\n",
              " 'estamos',\n",
              " 'estão',\n",
              " 'estive',\n",
              " 'esteve',\n",
              " 'estivemos',\n",
              " 'estiveram',\n",
              " 'estava',\n",
              " 'estávamos',\n",
              " 'estavam',\n",
              " 'estivera',\n",
              " 'estivéramos',\n",
              " 'esteja',\n",
              " 'estejamos',\n",
              " 'estejam',\n",
              " 'estivesse',\n",
              " 'estivéssemos',\n",
              " 'estivessem',\n",
              " 'estiver',\n",
              " 'estivermos',\n",
              " 'estiverem',\n",
              " 'hei',\n",
              " 'há',\n",
              " 'havemos',\n",
              " 'hão',\n",
              " 'houve',\n",
              " 'houvemos',\n",
              " 'houveram',\n",
              " 'houvera',\n",
              " 'houvéramos',\n",
              " 'haja',\n",
              " 'hajamos',\n",
              " 'hajam',\n",
              " 'houvesse',\n",
              " 'houvéssemos',\n",
              " 'houvessem',\n",
              " 'houver',\n",
              " 'houvermos',\n",
              " 'houverem',\n",
              " 'houverei',\n",
              " 'houverá',\n",
              " 'houveremos',\n",
              " 'houverão',\n",
              " 'houveria',\n",
              " 'houveríamos',\n",
              " 'houveriam',\n",
              " 'sou',\n",
              " 'somos',\n",
              " 'são',\n",
              " 'era',\n",
              " 'éramos',\n",
              " 'eram',\n",
              " 'fui',\n",
              " 'foi',\n",
              " 'fomos',\n",
              " 'foram',\n",
              " 'fora',\n",
              " 'fôramos',\n",
              " 'seja',\n",
              " 'sejamos',\n",
              " 'sejam',\n",
              " 'fosse',\n",
              " 'fôssemos',\n",
              " 'fossem',\n",
              " 'for',\n",
              " 'formos',\n",
              " 'forem',\n",
              " 'serei',\n",
              " 'será',\n",
              " 'seremos',\n",
              " 'serão',\n",
              " 'seria',\n",
              " 'seríamos',\n",
              " 'seriam',\n",
              " 'tenho',\n",
              " 'tem',\n",
              " 'temos',\n",
              " 'tém',\n",
              " 'tinha',\n",
              " 'tínhamos',\n",
              " 'tinham',\n",
              " 'tive',\n",
              " 'teve',\n",
              " 'tivemos',\n",
              " 'tiveram',\n",
              " 'tivera',\n",
              " 'tivéramos',\n",
              " 'tenha',\n",
              " 'tenhamos',\n",
              " 'tenham',\n",
              " 'tivesse',\n",
              " 'tivéssemos',\n",
              " 'tivessem',\n",
              " 'tiver',\n",
              " 'tivermos',\n",
              " 'tiverem',\n",
              " 'terei',\n",
              " 'terá',\n",
              " 'teremos',\n",
              " 'terão',\n",
              " 'teria',\n",
              " 'teríamos',\n",
              " 'teriam']"
            ]
          },
          "metadata": {},
          "execution_count": 22
        }
      ]
    },
    {
      "cell_type": "code",
      "source": [
        "# criando uma lista com tokens normalizados\n",
        "\n",
        "novo_texto = []\n",
        "for token in tokens:\n",
        "  if token not in stopwords_list:\n",
        "    novo_texto.append(token)"
      ],
      "metadata": {
        "id": "9Q7iftm9I8nv"
      },
      "execution_count": null,
      "outputs": []
    },
    {
      "cell_type": "code",
      "source": [
        "novo_texto"
      ],
      "metadata": {
        "colab": {
          "base_uri": "https://localhost:8080/"
        },
        "id": "JldYFEebKvRR",
        "outputId": "8ace72a8-0901-4bb6-f0a1-b88b38ac12fb"
      },
      "execution_count": null,
      "outputs": [
        {
          "output_type": "execute_result",
          "data": {
            "text/plain": [
              "['esperar', 'ufl', 'tudo', 'sobre', 'novo', 'rival', 'fifa', 'efootball']"
            ]
          },
          "metadata": {},
          "execution_count": 24
        }
      ]
    },
    {
      "cell_type": "code",
      "source": [
        "output = ' '.join(novo_texto)"
      ],
      "metadata": {
        "id": "SobxalmtKv5t"
      },
      "execution_count": null,
      "outputs": []
    },
    {
      "cell_type": "code",
      "source": [
        "output"
      ],
      "metadata": {
        "colab": {
          "base_uri": "https://localhost:8080/",
          "height": 36
        },
        "id": "ap9DZ8PAK8F4",
        "outputId": "680417c7-65bb-4445-aa9a-9b8d22b0f91f"
      },
      "execution_count": null,
      "outputs": [
        {
          "output_type": "execute_result",
          "data": {
            "application/vnd.google.colaboratory.intrinsic+json": {
              "type": "string"
            },
            "text/plain": [
              "'esperar ufl tudo sobre novo rival fifa efootball'"
            ]
          },
          "metadata": {},
          "execution_count": 26
        }
      ]
    },
    {
      "cell_type": "code",
      "source": [
        "# normalizando a lista de stopwords, retirar acentos\n",
        "stop_norm = []\n",
        "\n",
        "for word in stopwords_list:\n",
        "  stop_norm.append(normalizaTexto(word))"
      ],
      "metadata": {
        "id": "m1bWDlOeLVLy"
      },
      "execution_count": null,
      "outputs": []
    },
    {
      "cell_type": "code",
      "source": [
        "stop_norm"
      ],
      "metadata": {
        "colab": {
          "base_uri": "https://localhost:8080/"
        },
        "id": "Ggbqja7yN11m",
        "outputId": "b559b3b2-389e-4556-de45-45973345020a"
      },
      "execution_count": null,
      "outputs": [
        {
          "output_type": "execute_result",
          "data": {
            "text/plain": [
              "['de',\n",
              " 'a',\n",
              " 'o',\n",
              " 'que',\n",
              " 'e',\n",
              " 'e',\n",
              " 'do',\n",
              " 'da',\n",
              " 'em',\n",
              " 'um',\n",
              " 'para',\n",
              " 'com',\n",
              " 'nao',\n",
              " 'uma',\n",
              " 'os',\n",
              " 'no',\n",
              " 'se',\n",
              " 'na',\n",
              " 'por',\n",
              " 'mais',\n",
              " 'as',\n",
              " 'dos',\n",
              " 'como',\n",
              " 'mas',\n",
              " 'ao',\n",
              " 'ele',\n",
              " 'das',\n",
              " 'a',\n",
              " 'seu',\n",
              " 'sua',\n",
              " 'ou',\n",
              " 'quando',\n",
              " 'muito',\n",
              " 'nos',\n",
              " 'ja',\n",
              " 'eu',\n",
              " 'tambem',\n",
              " 'so',\n",
              " 'pelo',\n",
              " 'pela',\n",
              " 'ate',\n",
              " 'isso',\n",
              " 'ela',\n",
              " 'entre',\n",
              " 'depois',\n",
              " 'sem',\n",
              " 'mesmo',\n",
              " 'aos',\n",
              " 'seus',\n",
              " 'quem',\n",
              " 'nas',\n",
              " 'me',\n",
              " 'esse',\n",
              " 'eles',\n",
              " 'voce',\n",
              " 'essa',\n",
              " 'num',\n",
              " 'nem',\n",
              " 'suas',\n",
              " 'meu',\n",
              " 'as',\n",
              " 'minha',\n",
              " 'numa',\n",
              " 'pelos',\n",
              " 'elas',\n",
              " 'qual',\n",
              " 'nos',\n",
              " 'lhe',\n",
              " 'deles',\n",
              " 'essas',\n",
              " 'esses',\n",
              " 'pelas',\n",
              " 'este',\n",
              " 'dele',\n",
              " 'tu',\n",
              " 'te',\n",
              " 'voces',\n",
              " 'vos',\n",
              " 'lhes',\n",
              " 'meus',\n",
              " 'minhas',\n",
              " 'teu',\n",
              " 'tua',\n",
              " 'teus',\n",
              " 'tuas',\n",
              " 'nosso',\n",
              " 'nossa',\n",
              " 'nossos',\n",
              " 'nossas',\n",
              " 'dela',\n",
              " 'delas',\n",
              " 'esta',\n",
              " 'estes',\n",
              " 'estas',\n",
              " 'aquele',\n",
              " 'aquela',\n",
              " 'aqueles',\n",
              " 'aquelas',\n",
              " 'isto',\n",
              " 'aquilo',\n",
              " 'estou',\n",
              " 'esta',\n",
              " 'estamos',\n",
              " 'estao',\n",
              " 'estive',\n",
              " 'esteve',\n",
              " 'estivemos',\n",
              " 'estiveram',\n",
              " 'estava',\n",
              " 'estavamos',\n",
              " 'estavam',\n",
              " 'estivera',\n",
              " 'estiveramos',\n",
              " 'esteja',\n",
              " 'estejamos',\n",
              " 'estejam',\n",
              " 'estivesse',\n",
              " 'estivessemos',\n",
              " 'estivessem',\n",
              " 'estiver',\n",
              " 'estivermos',\n",
              " 'estiverem',\n",
              " 'hei',\n",
              " 'ha',\n",
              " 'havemos',\n",
              " 'hao',\n",
              " 'houve',\n",
              " 'houvemos',\n",
              " 'houveram',\n",
              " 'houvera',\n",
              " 'houveramos',\n",
              " 'haja',\n",
              " 'hajamos',\n",
              " 'hajam',\n",
              " 'houvesse',\n",
              " 'houvessemos',\n",
              " 'houvessem',\n",
              " 'houver',\n",
              " 'houvermos',\n",
              " 'houverem',\n",
              " 'houverei',\n",
              " 'houvera',\n",
              " 'houveremos',\n",
              " 'houverao',\n",
              " 'houveria',\n",
              " 'houveriamos',\n",
              " 'houveriam',\n",
              " 'sou',\n",
              " 'somos',\n",
              " 'sao',\n",
              " 'era',\n",
              " 'eramos',\n",
              " 'eram',\n",
              " 'fui',\n",
              " 'foi',\n",
              " 'fomos',\n",
              " 'foram',\n",
              " 'fora',\n",
              " 'foramos',\n",
              " 'seja',\n",
              " 'sejamos',\n",
              " 'sejam',\n",
              " 'fosse',\n",
              " 'fossemos',\n",
              " 'fossem',\n",
              " 'for',\n",
              " 'formos',\n",
              " 'forem',\n",
              " 'serei',\n",
              " 'sera',\n",
              " 'seremos',\n",
              " 'serao',\n",
              " 'seria',\n",
              " 'seriamos',\n",
              " 'seriam',\n",
              " 'tenho',\n",
              " 'tem',\n",
              " 'temos',\n",
              " 'tem',\n",
              " 'tinha',\n",
              " 'tinhamos',\n",
              " 'tinham',\n",
              " 'tive',\n",
              " 'teve',\n",
              " 'tivemos',\n",
              " 'tiveram',\n",
              " 'tivera',\n",
              " 'tiveramos',\n",
              " 'tenha',\n",
              " 'tenhamos',\n",
              " 'tenham',\n",
              " 'tivesse',\n",
              " 'tivessemos',\n",
              " 'tivessem',\n",
              " 'tiver',\n",
              " 'tivermos',\n",
              " 'tiverem',\n",
              " 'terei',\n",
              " 'tera',\n",
              " 'teremos',\n",
              " 'terao',\n",
              " 'teria',\n",
              " 'teriamos',\n",
              " 'teriam']"
            ]
          },
          "metadata": {},
          "execution_count": 28
        }
      ]
    },
    {
      "cell_type": "code",
      "source": [
        "# criando uma lista com tokens normalizados\n",
        "\n",
        "novo_texto = []\n",
        "for token in tokens:\n",
        "  if token not in stop_norm:\n",
        "    novo_texto.append(token)"
      ],
      "metadata": {
        "id": "LRo7tPrWN3bN"
      },
      "execution_count": null,
      "outputs": []
    },
    {
      "cell_type": "code",
      "source": [
        "# usando stemmer, para chegar à raiz das palavras, ao radical\n",
        "\n",
        "nltk.download('rslp')\n",
        "\n",
        "stemmer = nltk.stem.RSLPStemmer()\n"
      ],
      "metadata": {
        "colab": {
          "base_uri": "https://localhost:8080/"
        },
        "id": "FWGTa6SqOD8Z",
        "outputId": "4f1bdf8f-9363-4b17-e5d7-8f3fbc37b8dd"
      },
      "execution_count": null,
      "outputs": [
        {
          "output_type": "stream",
          "name": "stdout",
          "text": [
            "[nltk_data] Downloading package rslp to /root/nltk_data...\n",
            "[nltk_data]   Unzipping stemmers/rslp.zip.\n"
          ]
        }
      ]
    },
    {
      "cell_type": "code",
      "source": [
        "output"
      ],
      "metadata": {
        "colab": {
          "base_uri": "https://localhost:8080/",
          "height": 36
        },
        "id": "11xIsqLmPQ3D",
        "outputId": "aaa01d5c-a676-477f-b89e-ad193033a3b0"
      },
      "execution_count": null,
      "outputs": [
        {
          "output_type": "execute_result",
          "data": {
            "application/vnd.google.colaboratory.intrinsic+json": {
              "type": "string"
            },
            "text/plain": [
              "'esperar ufl tudo sobre novo rival fifa efootball'"
            ]
          },
          "metadata": {},
          "execution_count": 31
        }
      ]
    },
    {
      "cell_type": "code",
      "source": [
        "output_tokens = nltk.word_tokenize(output)"
      ],
      "metadata": {
        "id": "JI2Hz46aPSqv"
      },
      "execution_count": null,
      "outputs": []
    },
    {
      "cell_type": "code",
      "source": [
        "output_tokens"
      ],
      "metadata": {
        "colab": {
          "base_uri": "https://localhost:8080/"
        },
        "id": "UMn0T9AQPoMg",
        "outputId": "035291f6-cd02-4f7a-ae3f-e01207e913db"
      },
      "execution_count": null,
      "outputs": [
        {
          "output_type": "execute_result",
          "data": {
            "text/plain": [
              "['esperar', 'ufl', 'tudo', 'sobre', 'novo', 'rival', 'fifa', 'efootball']"
            ]
          },
          "metadata": {},
          "execution_count": 33
        }
      ]
    },
    {
      "cell_type": "code",
      "source": [
        "stemm =[]\n",
        "for token in output_tokens:\n",
        "  stemm.append(stemmer.stem(token))"
      ],
      "metadata": {
        "id": "Ckn5PP3CPo2m"
      },
      "execution_count": null,
      "outputs": []
    },
    {
      "cell_type": "code",
      "source": [
        "#tokens originais\n",
        "output_tokens"
      ],
      "metadata": {
        "colab": {
          "base_uri": "https://localhost:8080/"
        },
        "id": "IZXPNPuPQKrI",
        "outputId": "ef4f7ba7-68c0-4111-ce4e-f1c215218058"
      },
      "execution_count": null,
      "outputs": [
        {
          "output_type": "execute_result",
          "data": {
            "text/plain": [
              "['esperar', 'ufl', 'tudo', 'sobre', 'novo', 'rival', 'fifa', 'efootball']"
            ]
          },
          "metadata": {},
          "execution_count": 35
        }
      ]
    },
    {
      "cell_type": "code",
      "source": [
        "# tokens após aplicação do stemmer\n",
        "stemm"
      ],
      "metadata": {
        "colab": {
          "base_uri": "https://localhost:8080/"
        },
        "id": "t2x93tZ-QN2W",
        "outputId": "a9a536ec-b6ef-4a53-f7f2-73891ccf15e9"
      },
      "execution_count": null,
      "outputs": [
        {
          "output_type": "execute_result",
          "data": {
            "text/plain": [
              "['esper', 'ufl', 'tud', 'sobr', 'nov', 'rival', 'fif', 'efootball']"
            ]
          },
          "metadata": {},
          "execution_count": 36
        }
      ]
    },
    {
      "cell_type": "code",
      "source": [
        "# lemmatização\n",
        "\n",
        "from nltk.stem import WordNetLemmatizer\n",
        "nltk.download('wordnet')"
      ],
      "metadata": {
        "colab": {
          "base_uri": "https://localhost:8080/"
        },
        "id": "UtSxVIcCQSAK",
        "outputId": "e0bab011-5787-44fe-b4f9-702da2f096ab"
      },
      "execution_count": null,
      "outputs": [
        {
          "output_type": "stream",
          "name": "stdout",
          "text": [
            "[nltk_data] Downloading package wordnet to /root/nltk_data...\n",
            "[nltk_data]   Unzipping corpora/wordnet.zip.\n"
          ]
        },
        {
          "output_type": "execute_result",
          "data": {
            "text/plain": [
              "True"
            ]
          },
          "metadata": {},
          "execution_count": 37
        }
      ]
    },
    {
      "cell_type": "code",
      "source": [
        "lemmatizer = WordNetLemmatizer()\n",
        "lemman = []\n",
        "for token in output_tokens:\n",
        "  lemman.append(lemmatizer.lemmatize(token))"
      ],
      "metadata": {
        "id": "hobGHcHEQ_5S"
      },
      "execution_count": null,
      "outputs": []
    },
    {
      "cell_type": "code",
      "source": [
        "lemman"
      ],
      "metadata": {
        "colab": {
          "base_uri": "https://localhost:8080/"
        },
        "id": "PDA7PGKdR0qp",
        "outputId": "abd7cfb5-539d-4b36-f31d-bb2876700466"
      },
      "execution_count": null,
      "outputs": [
        {
          "output_type": "execute_result",
          "data": {
            "text/plain": [
              "['esperar', 'ufl', 'tudo', 'sobre', 'novo', 'rival', 'fifa', 'efootball']"
            ]
          },
          "metadata": {},
          "execution_count": 39
        }
      ]
    },
    {
      "cell_type": "code",
      "source": [
        "lemmatizer.lemmatize('english')"
      ],
      "metadata": {
        "id": "V_RQmfrRR2fu",
        "colab": {
          "base_uri": "https://localhost:8080/",
          "height": 36
        },
        "outputId": "ff704551-f75d-4d08-d668-fe1174f2f4b1"
      },
      "execution_count": null,
      "outputs": [
        {
          "output_type": "execute_result",
          "data": {
            "application/vnd.google.colaboratory.intrinsic+json": {
              "type": "string"
            },
            "text/plain": [
              "'english'"
            ]
          },
          "metadata": {},
          "execution_count": 42
        }
      ]
    },
    {
      "cell_type": "code",
      "source": [
        "# Trabalhando com SPACY\n",
        "\n",
        "import spacy"
      ],
      "metadata": {
        "id": "5IFPpNpbbQsl"
      },
      "execution_count": null,
      "outputs": []
    },
    {
      "cell_type": "code",
      "source": [
        "!python -m spacy download pt"
      ],
      "metadata": {
        "colab": {
          "base_uri": "https://localhost:8080/"
        },
        "id": "vqg52sS-cPUp",
        "outputId": "873a7a8a-36fe-4c8b-f16a-a295a69620ff"
      },
      "execution_count": null,
      "outputs": [
        {
          "output_type": "stream",
          "name": "stdout",
          "text": [
            "Collecting pt_core_news_sm==2.2.5\n",
            "  Downloading https://github.com/explosion/spacy-models/releases/download/pt_core_news_sm-2.2.5/pt_core_news_sm-2.2.5.tar.gz (21.2 MB)\n",
            "\u001b[K     |████████████████████████████████| 21.2 MB 94.0 MB/s \n",
            "\u001b[?25hRequirement already satisfied: spacy>=2.2.2 in /usr/local/lib/python3.7/dist-packages (from pt_core_news_sm==2.2.5) (2.2.4)\n",
            "Requirement already satisfied: catalogue<1.1.0,>=0.0.7 in /usr/local/lib/python3.7/dist-packages (from spacy>=2.2.2->pt_core_news_sm==2.2.5) (1.0.0)\n",
            "Requirement already satisfied: plac<1.2.0,>=0.9.6 in /usr/local/lib/python3.7/dist-packages (from spacy>=2.2.2->pt_core_news_sm==2.2.5) (1.1.3)\n",
            "Requirement already satisfied: setuptools in /usr/local/lib/python3.7/dist-packages (from spacy>=2.2.2->pt_core_news_sm==2.2.5) (57.4.0)\n",
            "Requirement already satisfied: requests<3.0.0,>=2.13.0 in /usr/local/lib/python3.7/dist-packages (from spacy>=2.2.2->pt_core_news_sm==2.2.5) (2.23.0)\n",
            "Requirement already satisfied: tqdm<5.0.0,>=4.38.0 in /usr/local/lib/python3.7/dist-packages (from spacy>=2.2.2->pt_core_news_sm==2.2.5) (4.62.3)\n",
            "Requirement already satisfied: wasabi<1.1.0,>=0.4.0 in /usr/local/lib/python3.7/dist-packages (from spacy>=2.2.2->pt_core_news_sm==2.2.5) (0.9.0)\n",
            "Requirement already satisfied: numpy>=1.15.0 in /usr/local/lib/python3.7/dist-packages (from spacy>=2.2.2->pt_core_news_sm==2.2.5) (1.19.5)\n",
            "Requirement already satisfied: murmurhash<1.1.0,>=0.28.0 in /usr/local/lib/python3.7/dist-packages (from spacy>=2.2.2->pt_core_news_sm==2.2.5) (1.0.6)\n",
            "Requirement already satisfied: blis<0.5.0,>=0.4.0 in /usr/local/lib/python3.7/dist-packages (from spacy>=2.2.2->pt_core_news_sm==2.2.5) (0.4.1)\n",
            "Requirement already satisfied: preshed<3.1.0,>=3.0.2 in /usr/local/lib/python3.7/dist-packages (from spacy>=2.2.2->pt_core_news_sm==2.2.5) (3.0.6)\n",
            "Requirement already satisfied: cymem<2.1.0,>=2.0.2 in /usr/local/lib/python3.7/dist-packages (from spacy>=2.2.2->pt_core_news_sm==2.2.5) (2.0.6)\n",
            "Requirement already satisfied: srsly<1.1.0,>=1.0.2 in /usr/local/lib/python3.7/dist-packages (from spacy>=2.2.2->pt_core_news_sm==2.2.5) (1.0.5)\n",
            "Requirement already satisfied: thinc==7.4.0 in /usr/local/lib/python3.7/dist-packages (from spacy>=2.2.2->pt_core_news_sm==2.2.5) (7.4.0)\n",
            "Requirement already satisfied: importlib-metadata>=0.20 in /usr/local/lib/python3.7/dist-packages (from catalogue<1.1.0,>=0.0.7->spacy>=2.2.2->pt_core_news_sm==2.2.5) (4.10.1)\n",
            "Requirement already satisfied: typing-extensions>=3.6.4 in /usr/local/lib/python3.7/dist-packages (from importlib-metadata>=0.20->catalogue<1.1.0,>=0.0.7->spacy>=2.2.2->pt_core_news_sm==2.2.5) (3.10.0.2)\n",
            "Requirement already satisfied: zipp>=0.5 in /usr/local/lib/python3.7/dist-packages (from importlib-metadata>=0.20->catalogue<1.1.0,>=0.0.7->spacy>=2.2.2->pt_core_news_sm==2.2.5) (3.7.0)\n",
            "Requirement already satisfied: certifi>=2017.4.17 in /usr/local/lib/python3.7/dist-packages (from requests<3.0.0,>=2.13.0->spacy>=2.2.2->pt_core_news_sm==2.2.5) (2021.10.8)\n",
            "Requirement already satisfied: idna<3,>=2.5 in /usr/local/lib/python3.7/dist-packages (from requests<3.0.0,>=2.13.0->spacy>=2.2.2->pt_core_news_sm==2.2.5) (2.10)\n",
            "Requirement already satisfied: chardet<4,>=3.0.2 in /usr/local/lib/python3.7/dist-packages (from requests<3.0.0,>=2.13.0->spacy>=2.2.2->pt_core_news_sm==2.2.5) (3.0.4)\n",
            "Requirement already satisfied: urllib3!=1.25.0,!=1.25.1,<1.26,>=1.21.1 in /usr/local/lib/python3.7/dist-packages (from requests<3.0.0,>=2.13.0->spacy>=2.2.2->pt_core_news_sm==2.2.5) (1.24.3)\n",
            "Building wheels for collected packages: pt-core-news-sm\n",
            "  Building wheel for pt-core-news-sm (setup.py) ... \u001b[?25l\u001b[?25hdone\n",
            "  Created wheel for pt-core-news-sm: filename=pt_core_news_sm-2.2.5-py3-none-any.whl size=21186281 sha256=34ae4787bb284837da8a5d058b60b094666090a5246fb152c7cc69c79683f1e6\n",
            "  Stored in directory: /tmp/pip-ephem-wheel-cache-rn9l865m/wheels/c3/f9/0c/5c014a36941a00f5df5fc0756cb961d7c457a978e697a6ce3b\n",
            "Successfully built pt-core-news-sm\n",
            "Installing collected packages: pt-core-news-sm\n",
            "Successfully installed pt-core-news-sm-2.2.5\n",
            "\u001b[38;5;2m✔ Download and installation successful\u001b[0m\n",
            "You can now load the model via spacy.load('pt_core_news_sm')\n",
            "\u001b[38;5;2m✔ Linking successful\u001b[0m\n",
            "/usr/local/lib/python3.7/dist-packages/pt_core_news_sm -->\n",
            "/usr/local/lib/python3.7/dist-packages/spacy/data/pt\n",
            "You can now load the model via spacy.load('pt')\n"
          ]
        }
      ]
    },
    {
      "cell_type": "code",
      "source": [
        "nlp = spacy.load('pt')"
      ],
      "metadata": {
        "id": "beNwpxbecVYF"
      },
      "execution_count": null,
      "outputs": []
    },
    {
      "cell_type": "code",
      "source": [
        "doc = nlp('Ninguém queria tirar a vida dele, diz agressor do congolês Moïse em vídeo')"
      ],
      "metadata": {
        "id": "v2Xqc5bDcdpF"
      },
      "execution_count": null,
      "outputs": []
    },
    {
      "cell_type": "code",
      "source": [
        "doc"
      ],
      "metadata": {
        "colab": {
          "base_uri": "https://localhost:8080/"
        },
        "id": "k814-zlkcxEJ",
        "outputId": "b2a02965-6417-4c0e-f4a1-12aeff6cf9e4"
      },
      "execution_count": null,
      "outputs": [
        {
          "output_type": "execute_result",
          "data": {
            "text/plain": [
              "Ninguém queria tirar a vida dele, diz agressor do congolês Moïse em vídeo"
            ]
          },
          "metadata": {},
          "execution_count": 47
        }
      ]
    },
    {
      "cell_type": "code",
      "source": [
        "for token in doc:\n",
        "  print(token.text, ' POS: ', token.pos_, ' LEMMA: ', token.lemma_)"
      ],
      "metadata": {
        "colab": {
          "base_uri": "https://localhost:8080/"
        },
        "id": "k96EOQLKcyRV",
        "outputId": "cf70d15a-4cfb-4cc0-8a10-dfd440dc9536"
      },
      "execution_count": null,
      "outputs": [
        {
          "output_type": "stream",
          "name": "stdout",
          "text": [
            "Ninguém  POS:  PRON  LEMMA:  Ninguém\n",
            "queria  POS:  VERB  LEMMA:  querer\n",
            "tirar  POS:  VERB  LEMMA:  tirar\n",
            "a  POS:  DET  LEMMA:  o\n",
            "vida  POS:  NOUN  LEMMA:  vidar\n",
            "d  POS:  ADP  LEMMA:  d\n",
            "ele  POS:  PRON  LEMMA:  ele\n",
            ",  POS:  PUNCT  LEMMA:  ,\n",
            "diz  POS:  VERB  LEMMA:  dizer\n",
            "agressor  POS:  PROPN  LEMMA:  agressor\n",
            "do  POS:  DET  LEMMA:  do\n",
            "congolês  POS:  NOUN  LEMMA:  congolês\n",
            "Moïse  POS:  PROPN  LEMMA:  Moïse\n",
            "em  POS:  ADP  LEMMA:  em\n",
            "vídeo  POS:  NOUN  LEMMA:  vídeo\n"
          ]
        }
      ]
    },
    {
      "cell_type": "code",
      "source": [
        "# Encontrar as entidades , pessoas envolvidas nas notícias\n",
        "\n",
        "doc.ents"
      ],
      "metadata": {
        "colab": {
          "base_uri": "https://localhost:8080/"
        },
        "id": "Jm8x-yJNdeXz",
        "outputId": "a4ad5603-b6b7-47c9-fa14-95de23fb85ce"
      },
      "execution_count": null,
      "outputs": [
        {
          "output_type": "execute_result",
          "data": {
            "text/plain": [
              "(Moïse,)"
            ]
          },
          "metadata": {},
          "execution_count": 55
        }
      ]
    },
    {
      "cell_type": "code",
      "source": [
        "from spacy import displacy"
      ],
      "metadata": {
        "id": "bnuer5tQeCKO"
      },
      "execution_count": null,
      "outputs": []
    },
    {
      "cell_type": "code",
      "source": [
        "displacy.render(doc, style='ent', jupyter=True)"
      ],
      "metadata": {
        "colab": {
          "base_uri": "https://localhost:8080/",
          "height": 52
        },
        "id": "SqegzOgneLXt",
        "outputId": "4903f0e2-96c4-43c1-8710-e3965c36893a"
      },
      "execution_count": null,
      "outputs": [
        {
          "output_type": "display_data",
          "data": {
            "text/html": [
              "<span class=\"tex2jax_ignore\"><div class=\"entities\" style=\"line-height: 2.5; direction: ltr\">Ninguém queria tirar a vida dele, diz agressor do congolês \n",
              "<mark class=\"entity\" style=\"background: #ddd; padding: 0.45em 0.6em; margin: 0 0.25em; line-height: 1; border-radius: 0.35em;\">\n",
              "    Moïse\n",
              "    <span style=\"font-size: 0.8em; font-weight: bold; line-height: 1; border-radius: 0.35em; text-transform: uppercase; vertical-align: middle; margin-left: 0.5rem\">MISC</span>\n",
              "</mark>\n",
              " em vídeo</div></span>"
            ],
            "text/plain": [
              "<IPython.core.display.HTML object>"
            ]
          },
          "metadata": {}
        }
      ]
    },
    {
      "cell_type": "code",
      "source": [
        "texto_teste = nlp('Istiodactylus é um gênero de pterossauros que viveram durante o período Cretáceo Inferior cerca de 120 milhões de anos atrás. Seu primeiro fóssil foi descoberto em 1887 na Ilha de Wight, no Reino Unido, tendo seu holótipo sido declarado em 1901 pelo paleontólogo inglês Harry G. Seeley. O Istiodactylus era um grande pterossauro; as estimativas de sua envergadura variam de 4,3 a 5 metros. Seu crânio tinha cerca de 45 centímetros de comprimento e era relativamente curto e largo para um pterossauro. A frente do focinho era baixa e romba e apresentava um semicírculo de 48 dentes. Os dentes triangulares estavam bem espaçados, entrelaçados e formavam um contorno \"afiado\". A mandíbula inferior também tinha uma projeção semelhante a um dente que ocluía com os dentes.')"
      ],
      "metadata": {
        "id": "Zx9oRZJoeVu3"
      },
      "execution_count": null,
      "outputs": []
    },
    {
      "cell_type": "code",
      "source": [
        "doc = nlp('texto_teste')"
      ],
      "metadata": {
        "id": "LM6zf3NSgSR4"
      },
      "execution_count": null,
      "outputs": []
    },
    {
      "cell_type": "code",
      "source": [
        "displacy.render(texto_teste, style='ent', jupyter=True)"
      ],
      "metadata": {
        "colab": {
          "base_uri": "https://localhost:8080/",
          "height": 156
        },
        "id": "4xq6hJTcf8d0",
        "outputId": "7cd8312a-6332-40f1-dd87-3f21a09f2474"
      },
      "execution_count": null,
      "outputs": [
        {
          "output_type": "display_data",
          "data": {
            "text/html": [
              "<span class=\"tex2jax_ignore\"><div class=\"entities\" style=\"line-height: 2.5; direction: ltr\">\n",
              "<mark class=\"entity\" style=\"background: #ff9561; padding: 0.45em 0.6em; margin: 0 0.25em; line-height: 1; border-radius: 0.35em;\">\n",
              "    Istiodactylus\n",
              "    <span style=\"font-size: 0.8em; font-weight: bold; line-height: 1; border-radius: 0.35em; text-transform: uppercase; vertical-align: middle; margin-left: 0.5rem\">LOC</span>\n",
              "</mark>\n",
              " é um gênero de pterossauros que viveram durante o período \n",
              "<mark class=\"entity\" style=\"background: #ff9561; padding: 0.45em 0.6em; margin: 0 0.25em; line-height: 1; border-radius: 0.35em;\">\n",
              "    Cretáceo Inferior\n",
              "    <span style=\"font-size: 0.8em; font-weight: bold; line-height: 1; border-radius: 0.35em; text-transform: uppercase; vertical-align: middle; margin-left: 0.5rem\">LOC</span>\n",
              "</mark>\n",
              " cerca de 120 milhões de anos atrás. Seu primeiro fóssil foi descoberto em 1887 na \n",
              "<mark class=\"entity\" style=\"background: #ff9561; padding: 0.45em 0.6em; margin: 0 0.25em; line-height: 1; border-radius: 0.35em;\">\n",
              "    Ilha de Wight\n",
              "    <span style=\"font-size: 0.8em; font-weight: bold; line-height: 1; border-radius: 0.35em; text-transform: uppercase; vertical-align: middle; margin-left: 0.5rem\">LOC</span>\n",
              "</mark>\n",
              ", no \n",
              "<mark class=\"entity\" style=\"background: #ff9561; padding: 0.45em 0.6em; margin: 0 0.25em; line-height: 1; border-radius: 0.35em;\">\n",
              "    Reino Unido\n",
              "    <span style=\"font-size: 0.8em; font-weight: bold; line-height: 1; border-radius: 0.35em; text-transform: uppercase; vertical-align: middle; margin-left: 0.5rem\">LOC</span>\n",
              "</mark>\n",
              ", tendo seu holótipo sido declarado em 1901 pelo paleontólogo inglês \n",
              "<mark class=\"entity\" style=\"background: #ddd; padding: 0.45em 0.6em; margin: 0 0.25em; line-height: 1; border-radius: 0.35em;\">\n",
              "    Harry G. Seeley\n",
              "    <span style=\"font-size: 0.8em; font-weight: bold; line-height: 1; border-radius: 0.35em; text-transform: uppercase; vertical-align: middle; margin-left: 0.5rem\">PER</span>\n",
              "</mark>\n",
              ". O \n",
              "<mark class=\"entity\" style=\"background: #ddd; padding: 0.45em 0.6em; margin: 0 0.25em; line-height: 1; border-radius: 0.35em;\">\n",
              "    Istiodactylus\n",
              "    <span style=\"font-size: 0.8em; font-weight: bold; line-height: 1; border-radius: 0.35em; text-transform: uppercase; vertical-align: middle; margin-left: 0.5rem\">MISC</span>\n",
              "</mark>\n",
              " era um grande pterossauro; as estimativas de sua envergadura variam de 4,3 a 5 metros. Seu crânio tinha cerca de 45 centímetros de comprimento e era relativamente curto e largo para um pterossauro. A frente do focinho era baixa e romba e apresentava um semicírculo de 48 dentes. Os dentes triangulares estavam bem espaçados, entrelaçados e formavam um contorno &quot;afiado&quot;. A mandíbula inferior também tinha uma projeção semelhante a um dente que ocluía com os dentes.</div></span>"
            ],
            "text/plain": [
              "<IPython.core.display.HTML object>"
            ]
          },
          "metadata": {}
        }
      ]
    },
    {
      "cell_type": "code",
      "source": [
        "df_noticias = pd.DataFrame(all_titles, columns=['original'])"
      ],
      "metadata": {
        "id": "mw3yKhRMgumZ"
      },
      "execution_count": null,
      "outputs": []
    },
    {
      "cell_type": "code",
      "source": [
        "df_noticias"
      ],
      "metadata": {
        "colab": {
          "base_uri": "https://localhost:8080/",
          "height": 423
        },
        "id": "XGOu_iVyhlJP",
        "outputId": "2dd31b64-8611-4a11-9bc4-3ac1a53ace36"
      },
      "execution_count": null,
      "outputs": [
        {
          "output_type": "execute_result",
          "data": {
            "text/html": [
              "\n",
              "  <div id=\"df-50c11d0b-b7a7-4e6b-91a0-67cfd11be3c6\">\n",
              "    <div class=\"colab-df-container\">\n",
              "      <div>\n",
              "<style scoped>\n",
              "    .dataframe tbody tr th:only-of-type {\n",
              "        vertical-align: middle;\n",
              "    }\n",
              "\n",
              "    .dataframe tbody tr th {\n",
              "        vertical-align: top;\n",
              "    }\n",
              "\n",
              "    .dataframe thead th {\n",
              "        text-align: right;\n",
              "    }\n",
              "</style>\n",
              "<table border=\"1\" class=\"dataframe\">\n",
              "  <thead>\n",
              "    <tr style=\"text-align: right;\">\n",
              "      <th></th>\n",
              "      <th>original</th>\n",
              "    </tr>\n",
              "  </thead>\n",
              "  <tbody>\n",
              "    <tr>\n",
              "      <th>0</th>\n",
              "      <td>Número diário de mortes por Covid é o maior em...</td>\n",
              "    </tr>\n",
              "    <tr>\n",
              "      <th>1</th>\n",
              "      <td>Casos começam a perder força em 5 estados, mas...</td>\n",
              "    </tr>\n",
              "    <tr>\n",
              "      <th>2</th>\n",
              "      <td>Com a liberação dos autotestes de Covid, fabri...</td>\n",
              "    </tr>\n",
              "    <tr>\n",
              "      <th>3</th>\n",
              "      <td>Alunos da rede estadual de São Paulo voltam ho...</td>\n",
              "    </tr>\n",
              "    <tr>\n",
              "      <th>4</th>\n",
              "      <td>Torcida prepara festa no embarque do Palmeiras...</td>\n",
              "    </tr>\n",
              "    <tr>\n",
              "      <th>...</th>\n",
              "      <td>...</td>\n",
              "    </tr>\n",
              "    <tr>\n",
              "      <th>56</th>\n",
              "      <td>Mãe presta apoio a Tiago Abravanel após desaba...</td>\n",
              "    </tr>\n",
              "    <tr>\n",
              "      <th>57</th>\n",
              "      <td>Pai bonitão de Maria, do 'BBB 22', é gari e ma...</td>\n",
              "    </tr>\n",
              "    <tr>\n",
              "      <th>58</th>\n",
              "      <td>Emanuelle Araújo se casa com Fernando Diniz em...</td>\n",
              "    </tr>\n",
              "    <tr>\n",
              "      <th>59</th>\n",
              "      <td>Ludmilla realiza sonho e se muda no Rio de Jan...</td>\n",
              "    </tr>\n",
              "    <tr>\n",
              "      <th>60</th>\n",
              "      <td>Após desabafo, Tiago Abravanel recebe torpedo ...</td>\n",
              "    </tr>\n",
              "  </tbody>\n",
              "</table>\n",
              "<p>61 rows × 1 columns</p>\n",
              "</div>\n",
              "      <button class=\"colab-df-convert\" onclick=\"convertToInteractive('df-50c11d0b-b7a7-4e6b-91a0-67cfd11be3c6')\"\n",
              "              title=\"Convert this dataframe to an interactive table.\"\n",
              "              style=\"display:none;\">\n",
              "        \n",
              "  <svg xmlns=\"http://www.w3.org/2000/svg\" height=\"24px\"viewBox=\"0 0 24 24\"\n",
              "       width=\"24px\">\n",
              "    <path d=\"M0 0h24v24H0V0z\" fill=\"none\"/>\n",
              "    <path d=\"M18.56 5.44l.94 2.06.94-2.06 2.06-.94-2.06-.94-.94-2.06-.94 2.06-2.06.94zm-11 1L8.5 8.5l.94-2.06 2.06-.94-2.06-.94L8.5 2.5l-.94 2.06-2.06.94zm10 10l.94 2.06.94-2.06 2.06-.94-2.06-.94-.94-2.06-.94 2.06-2.06.94z\"/><path d=\"M17.41 7.96l-1.37-1.37c-.4-.4-.92-.59-1.43-.59-.52 0-1.04.2-1.43.59L10.3 9.45l-7.72 7.72c-.78.78-.78 2.05 0 2.83L4 21.41c.39.39.9.59 1.41.59.51 0 1.02-.2 1.41-.59l7.78-7.78 2.81-2.81c.8-.78.8-2.07 0-2.86zM5.41 20L4 18.59l7.72-7.72 1.47 1.35L5.41 20z\"/>\n",
              "  </svg>\n",
              "      </button>\n",
              "      \n",
              "  <style>\n",
              "    .colab-df-container {\n",
              "      display:flex;\n",
              "      flex-wrap:wrap;\n",
              "      gap: 12px;\n",
              "    }\n",
              "\n",
              "    .colab-df-convert {\n",
              "      background-color: #E8F0FE;\n",
              "      border: none;\n",
              "      border-radius: 50%;\n",
              "      cursor: pointer;\n",
              "      display: none;\n",
              "      fill: #1967D2;\n",
              "      height: 32px;\n",
              "      padding: 0 0 0 0;\n",
              "      width: 32px;\n",
              "    }\n",
              "\n",
              "    .colab-df-convert:hover {\n",
              "      background-color: #E2EBFA;\n",
              "      box-shadow: 0px 1px 2px rgba(60, 64, 67, 0.3), 0px 1px 3px 1px rgba(60, 64, 67, 0.15);\n",
              "      fill: #174EA6;\n",
              "    }\n",
              "\n",
              "    [theme=dark] .colab-df-convert {\n",
              "      background-color: #3B4455;\n",
              "      fill: #D2E3FC;\n",
              "    }\n",
              "\n",
              "    [theme=dark] .colab-df-convert:hover {\n",
              "      background-color: #434B5C;\n",
              "      box-shadow: 0px 1px 3px 1px rgba(0, 0, 0, 0.15);\n",
              "      filter: drop-shadow(0px 1px 2px rgba(0, 0, 0, 0.3));\n",
              "      fill: #FFFFFF;\n",
              "    }\n",
              "  </style>\n",
              "\n",
              "      <script>\n",
              "        const buttonEl =\n",
              "          document.querySelector('#df-50c11d0b-b7a7-4e6b-91a0-67cfd11be3c6 button.colab-df-convert');\n",
              "        buttonEl.style.display =\n",
              "          google.colab.kernel.accessAllowed ? 'block' : 'none';\n",
              "\n",
              "        async function convertToInteractive(key) {\n",
              "          const element = document.querySelector('#df-50c11d0b-b7a7-4e6b-91a0-67cfd11be3c6');\n",
              "          const dataTable =\n",
              "            await google.colab.kernel.invokeFunction('convertToInteractive',\n",
              "                                                     [key], {});\n",
              "          if (!dataTable) return;\n",
              "\n",
              "          const docLinkHtml = 'Like what you see? Visit the ' +\n",
              "            '<a target=\"_blank\" href=https://colab.research.google.com/notebooks/data_table.ipynb>data table notebook</a>'\n",
              "            + ' to learn more about interactive tables.';\n",
              "          element.innerHTML = '';\n",
              "          dataTable['output_type'] = 'display_data';\n",
              "          await google.colab.output.renderOutput(dataTable, element);\n",
              "          const docLink = document.createElement('div');\n",
              "          docLink.innerHTML = docLinkHtml;\n",
              "          element.appendChild(docLink);\n",
              "        }\n",
              "      </script>\n",
              "    </div>\n",
              "  </div>\n",
              "  "
            ],
            "text/plain": [
              "                                             original\n",
              "0   Número diário de mortes por Covid é o maior em...\n",
              "1   Casos começam a perder força em 5 estados, mas...\n",
              "2   Com a liberação dos autotestes de Covid, fabri...\n",
              "3   Alunos da rede estadual de São Paulo voltam ho...\n",
              "4   Torcida prepara festa no embarque do Palmeiras...\n",
              "..                                                ...\n",
              "56  Mãe presta apoio a Tiago Abravanel após desaba...\n",
              "57  Pai bonitão de Maria, do 'BBB 22', é gari e ma...\n",
              "58  Emanuelle Araújo se casa com Fernando Diniz em...\n",
              "59  Ludmilla realiza sonho e se muda no Rio de Jan...\n",
              "60  Após desabafo, Tiago Abravanel recebe torpedo ...\n",
              "\n",
              "[61 rows x 1 columns]"
            ]
          },
          "metadata": {},
          "execution_count": 76
        }
      ]
    },
    {
      "cell_type": "code",
      "source": [
        "def findEnt(text):\n",
        "  doc = nlp(text)\n",
        "  return list(doc.ents)"
      ],
      "metadata": {
        "id": "G5BMxND-hmiD"
      },
      "execution_count": null,
      "outputs": []
    },
    {
      "cell_type": "code",
      "source": [
        "df_noticias['Entidades'] = df_noticias['original'].apply(lambda x: findEnt(x))"
      ],
      "metadata": {
        "id": "k7penjAWiKd_"
      },
      "execution_count": null,
      "outputs": []
    },
    {
      "cell_type": "code",
      "source": [
        "df_noticias"
      ],
      "metadata": {
        "colab": {
          "base_uri": "https://localhost:8080/",
          "height": 423
        },
        "id": "m4NkDY06isIQ",
        "outputId": "2f808680-a4da-480f-9a1c-05480ebe086e"
      },
      "execution_count": null,
      "outputs": [
        {
          "output_type": "execute_result",
          "data": {
            "text/html": [
              "\n",
              "  <div id=\"df-531b4e2c-b0ea-4766-89b2-919a2b665476\">\n",
              "    <div class=\"colab-df-container\">\n",
              "      <div>\n",
              "<style scoped>\n",
              "    .dataframe tbody tr th:only-of-type {\n",
              "        vertical-align: middle;\n",
              "    }\n",
              "\n",
              "    .dataframe tbody tr th {\n",
              "        vertical-align: top;\n",
              "    }\n",
              "\n",
              "    .dataframe thead th {\n",
              "        text-align: right;\n",
              "    }\n",
              "</style>\n",
              "<table border=\"1\" class=\"dataframe\">\n",
              "  <thead>\n",
              "    <tr style=\"text-align: right;\">\n",
              "      <th></th>\n",
              "      <th>original</th>\n",
              "      <th>Entidades</th>\n",
              "    </tr>\n",
              "  </thead>\n",
              "  <tbody>\n",
              "    <tr>\n",
              "      <th>0</th>\n",
              "      <td>Número diário de mortes por Covid é o maior em...</td>\n",
              "      <td>[(Covid)]</td>\n",
              "    </tr>\n",
              "    <tr>\n",
              "      <th>1</th>\n",
              "      <td>Casos começam a perder força em 5 estados, mas...</td>\n",
              "      <td>[(Casos)]</td>\n",
              "    </tr>\n",
              "    <tr>\n",
              "      <th>2</th>\n",
              "      <td>Com a liberação dos autotestes de Covid, fabri...</td>\n",
              "      <td>[(Covid)]</td>\n",
              "    </tr>\n",
              "    <tr>\n",
              "      <th>3</th>\n",
              "      <td>Alunos da rede estadual de São Paulo voltam ho...</td>\n",
              "      <td>[(de, São, Paulo)]</td>\n",
              "    </tr>\n",
              "    <tr>\n",
              "      <th>4</th>\n",
              "      <td>Torcida prepara festa no embarque do Palmeiras...</td>\n",
              "      <td>[(Palmeiras), (Mundial), (SIGA)]</td>\n",
              "    </tr>\n",
              "    <tr>\n",
              "      <th>...</th>\n",
              "      <td>...</td>\n",
              "      <td>...</td>\n",
              "    </tr>\n",
              "    <tr>\n",
              "      <th>56</th>\n",
              "      <td>Mãe presta apoio a Tiago Abravanel após desaba...</td>\n",
              "      <td>[(Tiago, Abravanel)]</td>\n",
              "    </tr>\n",
              "    <tr>\n",
              "      <th>57</th>\n",
              "      <td>Pai bonitão de Maria, do 'BBB 22', é gari e ma...</td>\n",
              "      <td>[(Maria), (BBB), (Rio, de, Janeiro)]</td>\n",
              "    </tr>\n",
              "    <tr>\n",
              "      <th>58</th>\n",
              "      <td>Emanuelle Araújo se casa com Fernando Diniz em...</td>\n",
              "      <td>[(Emanuelle, Araújo), (Fernando, Diniz), (Bahia)]</td>\n",
              "    </tr>\n",
              "    <tr>\n",
              "      <th>59</th>\n",
              "      <td>Ludmilla realiza sonho e se muda no Rio de Jan...</td>\n",
              "      <td>[(Ludmilla), (Rio, de, Janeiro)]</td>\n",
              "    </tr>\n",
              "    <tr>\n",
              "      <th>60</th>\n",
              "      <td>Após desabafo, Tiago Abravanel recebe torpedo ...</td>\n",
              "      <td>[(Tiago, Abravanel), (Rodrigo), (BBB), (Obriga...</td>\n",
              "    </tr>\n",
              "  </tbody>\n",
              "</table>\n",
              "<p>61 rows × 2 columns</p>\n",
              "</div>\n",
              "      <button class=\"colab-df-convert\" onclick=\"convertToInteractive('df-531b4e2c-b0ea-4766-89b2-919a2b665476')\"\n",
              "              title=\"Convert this dataframe to an interactive table.\"\n",
              "              style=\"display:none;\">\n",
              "        \n",
              "  <svg xmlns=\"http://www.w3.org/2000/svg\" height=\"24px\"viewBox=\"0 0 24 24\"\n",
              "       width=\"24px\">\n",
              "    <path d=\"M0 0h24v24H0V0z\" fill=\"none\"/>\n",
              "    <path d=\"M18.56 5.44l.94 2.06.94-2.06 2.06-.94-2.06-.94-.94-2.06-.94 2.06-2.06.94zm-11 1L8.5 8.5l.94-2.06 2.06-.94-2.06-.94L8.5 2.5l-.94 2.06-2.06.94zm10 10l.94 2.06.94-2.06 2.06-.94-2.06-.94-.94-2.06-.94 2.06-2.06.94z\"/><path d=\"M17.41 7.96l-1.37-1.37c-.4-.4-.92-.59-1.43-.59-.52 0-1.04.2-1.43.59L10.3 9.45l-7.72 7.72c-.78.78-.78 2.05 0 2.83L4 21.41c.39.39.9.59 1.41.59.51 0 1.02-.2 1.41-.59l7.78-7.78 2.81-2.81c.8-.78.8-2.07 0-2.86zM5.41 20L4 18.59l7.72-7.72 1.47 1.35L5.41 20z\"/>\n",
              "  </svg>\n",
              "      </button>\n",
              "      \n",
              "  <style>\n",
              "    .colab-df-container {\n",
              "      display:flex;\n",
              "      flex-wrap:wrap;\n",
              "      gap: 12px;\n",
              "    }\n",
              "\n",
              "    .colab-df-convert {\n",
              "      background-color: #E8F0FE;\n",
              "      border: none;\n",
              "      border-radius: 50%;\n",
              "      cursor: pointer;\n",
              "      display: none;\n",
              "      fill: #1967D2;\n",
              "      height: 32px;\n",
              "      padding: 0 0 0 0;\n",
              "      width: 32px;\n",
              "    }\n",
              "\n",
              "    .colab-df-convert:hover {\n",
              "      background-color: #E2EBFA;\n",
              "      box-shadow: 0px 1px 2px rgba(60, 64, 67, 0.3), 0px 1px 3px 1px rgba(60, 64, 67, 0.15);\n",
              "      fill: #174EA6;\n",
              "    }\n",
              "\n",
              "    [theme=dark] .colab-df-convert {\n",
              "      background-color: #3B4455;\n",
              "      fill: #D2E3FC;\n",
              "    }\n",
              "\n",
              "    [theme=dark] .colab-df-convert:hover {\n",
              "      background-color: #434B5C;\n",
              "      box-shadow: 0px 1px 3px 1px rgba(0, 0, 0, 0.15);\n",
              "      filter: drop-shadow(0px 1px 2px rgba(0, 0, 0, 0.3));\n",
              "      fill: #FFFFFF;\n",
              "    }\n",
              "  </style>\n",
              "\n",
              "      <script>\n",
              "        const buttonEl =\n",
              "          document.querySelector('#df-531b4e2c-b0ea-4766-89b2-919a2b665476 button.colab-df-convert');\n",
              "        buttonEl.style.display =\n",
              "          google.colab.kernel.accessAllowed ? 'block' : 'none';\n",
              "\n",
              "        async function convertToInteractive(key) {\n",
              "          const element = document.querySelector('#df-531b4e2c-b0ea-4766-89b2-919a2b665476');\n",
              "          const dataTable =\n",
              "            await google.colab.kernel.invokeFunction('convertToInteractive',\n",
              "                                                     [key], {});\n",
              "          if (!dataTable) return;\n",
              "\n",
              "          const docLinkHtml = 'Like what you see? Visit the ' +\n",
              "            '<a target=\"_blank\" href=https://colab.research.google.com/notebooks/data_table.ipynb>data table notebook</a>'\n",
              "            + ' to learn more about interactive tables.';\n",
              "          element.innerHTML = '';\n",
              "          dataTable['output_type'] = 'display_data';\n",
              "          await google.colab.output.renderOutput(dataTable, element);\n",
              "          const docLink = document.createElement('div');\n",
              "          docLink.innerHTML = docLinkHtml;\n",
              "          element.appendChild(docLink);\n",
              "        }\n",
              "      </script>\n",
              "    </div>\n",
              "  </div>\n",
              "  "
            ],
            "text/plain": [
              "                                             original                                          Entidades\n",
              "0   Número diário de mortes por Covid é o maior em...                                          [(Covid)]\n",
              "1   Casos começam a perder força em 5 estados, mas...                                          [(Casos)]\n",
              "2   Com a liberação dos autotestes de Covid, fabri...                                          [(Covid)]\n",
              "3   Alunos da rede estadual de São Paulo voltam ho...                                 [(de, São, Paulo)]\n",
              "4   Torcida prepara festa no embarque do Palmeiras...                   [(Palmeiras), (Mundial), (SIGA)]\n",
              "..                                                ...                                                ...\n",
              "56  Mãe presta apoio a Tiago Abravanel após desaba...                               [(Tiago, Abravanel)]\n",
              "57  Pai bonitão de Maria, do 'BBB 22', é gari e ma...               [(Maria), (BBB), (Rio, de, Janeiro)]\n",
              "58  Emanuelle Araújo se casa com Fernando Diniz em...  [(Emanuelle, Araújo), (Fernando, Diniz), (Bahia)]\n",
              "59  Ludmilla realiza sonho e se muda no Rio de Jan...                   [(Ludmilla), (Rio, de, Janeiro)]\n",
              "60  Após desabafo, Tiago Abravanel recebe torpedo ...  [(Tiago, Abravanel), (Rodrigo), (BBB), (Obriga...\n",
              "\n",
              "[61 rows x 2 columns]"
            ]
          },
          "metadata": {},
          "execution_count": 83
        }
      ]
    },
    {
      "cell_type": "code",
      "source": [],
      "metadata": {
        "id": "px3bJzlyis6O"
      },
      "execution_count": null,
      "outputs": []
    }
  ]
}